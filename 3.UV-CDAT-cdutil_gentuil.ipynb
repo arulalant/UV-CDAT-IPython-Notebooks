{
 "metadata": {
  "name": "",
  "signature": "sha256:e74002013f4b2cc66ad938cb4b26d1def22a95af4a5ca53b07d00019cd621871"
 },
 "nbformat": 3,
 "nbformat_minor": 0,
 "worksheets": [
  {
   "cells": [
    {
     "cell_type": "markdown",
     "metadata": {
      "internals": {
       "slide_type": "subslide"
      },
      "slideshow": {
       "slide_type": "slide"
      }
     },
     "source": [
      "<center><font face=\"sans-serif\" size=5>cdms2 : <b>selecting data</b></font></center>"
     ]
    },
    {
     "cell_type": "code",
     "collapsed": false,
     "input": [
      "import cdms2\n",
      "DATAPATH = './data/Obs/mo/sst/HadISST/'\n",
      "# open the nc file throgh cdms2 module\n",
      "f = cdms2.open(DATAPATH + 'sst_HadISST_Climatology_1961-1990.nc')\n",
      "# You can query the file\n",
      "print f.listvariables()      "
     ],
     "language": "python",
     "metadata": {
      "internals": {},
      "slideshow": {
       "slide_type": "fragment"
      }
     },
     "outputs": [
      {
       "output_type": "stream",
       "stream": "stdout",
       "text": [
        "['sst', 'bounds_time', 'bounds_lon', 'bounds_lat']\n"
       ]
      }
     ],
     "prompt_number": 1
    },
    {
     "cell_type": "code",
     "collapsed": false,
     "input": [
      "x = f('sst') # retrieves the whole dataset - a \u201cslab\u201d\n",
      "x.shape"
     ],
     "language": "python",
     "metadata": {
      "internals": {},
      "slideshow": {
       "slide_type": "fragment"
      }
     },
     "outputs": [
      {
       "metadata": {},
       "output_type": "pyout",
       "prompt_number": 2,
       "text": [
        "(12, 180, 360)"
       ]
      }
     ],
     "prompt_number": 2
    },
    {
     "cell_type": "code",
     "collapsed": false,
     "input": [
      "# Selecting a specific area\n",
      "x = f('sst', latitude=(0., 35.), longitude= (20., 100.))\n",
      "x.shape"
     ],
     "language": "python",
     "metadata": {
      "internals": {},
      "slideshow": {
       "slide_type": "fragment"
      }
     },
     "outputs": [
      {
       "metadata": {},
       "output_type": "pyout",
       "prompt_number": 3,
       "text": [
        "(12, 35, 80)"
       ]
      }
     ],
     "prompt_number": 3
    },
    {
     "cell_type": "code",
     "collapsed": false,
     "input": [
      "# Selecting specific times\n",
      "y = f('sst', time=('0-6-1', '0-6-31'))\n",
      "print \"y shape : \", y.shape  # note : this is monthly climatology file.\n",
      "\n",
      "# You can also select the specific time from a \u201cslab\u201d\n",
      "z = x(time=('0-6-1', '0-6-31'))\n",
      "print \"z shape : \", y.shape"
     ],
     "language": "python",
     "metadata": {
      "internals": {},
      "slideshow": {
       "slide_type": "fragment"
      }
     },
     "outputs": [
      {
       "output_type": "stream",
       "stream": "stdout",
       "text": [
        "y shape :  (1, 180, 360)\n",
        "z shape :  (1, 180, 360)\n"
       ]
      }
     ],
     "prompt_number": 4
    },
    {
     "cell_type": "code",
     "collapsed": false,
     "input": [
      "# You can \u201csqueeze\u201d out \u201csingleton\u201d dimensions while retreiving data from file itself\n",
      "y = f('sst', time=('0-6-1', '0-6-31'), squeeze=1)\n",
      "print \"squeezed\", y.shape"
     ],
     "language": "python",
     "metadata": {
      "internals": {},
      "slideshow": {
       "slide_type": "fragment"
      }
     },
     "outputs": [
      {
       "output_type": "stream",
       "stream": "stdout",
       "text": [
        "squeezed (180, 360)\n"
       ]
      }
     ],
     "prompt_number": 5
    },
    {
     "cell_type": "code",
     "collapsed": false,
     "input": [
      "print z.shape\n",
      "# You can \u201csqueeze\u201d out \u201csingleton\u201d dimensions to loaded array also\n",
      "z = z(squeeze=1)\n",
      "print z.shape\n"
     ],
     "language": "python",
     "metadata": {
      "internals": {},
      "slideshow": {
       "slide_type": "fragment"
      }
     },
     "outputs": [
      {
       "output_type": "stream",
       "stream": "stdout",
       "text": [
        "(1, 35, 80)\n",
        "(35, 80)\n"
       ]
      }
     ],
     "prompt_number": 6
    },
    {
     "cell_type": "code",
     "collapsed": false,
     "input": [
      "# You can also change the order of returned dimensions\n",
      "z = x(time=('0-6-1', '0-6-31'), order='xyt')\n",
      "z.info()"
     ],
     "language": "python",
     "metadata": {
      "internals": {
       "slide_helper": "subslide_end"
      },
      "slide_helper": "slide_end",
      "slideshow": {
       "slide_type": "fragment"
      }
     },
     "outputs": [
      {
       "output_type": "stream",
       "stream": "stdout",
       "text": [
        "*** Description of Slab variable_15 ***\n",
        "id: variable_15\n",
        "shape: (80, 35, 1)\n",
        "filename: \n",
        "missing_value: 1e+20\n",
        "comments: \n",
        "grid_name: <None>\n",
        "grid_type: generic\n",
        "time_statistic: \n",
        "long_name: \n",
        "units: \n",
        "tileIndex: None\n",
        "autoApiInfo: <AutoAPI.AutoAPI.Info instance at 0x2b60830>\n",
        "Grid has Python id 0x2b61190.\n",
        "Gridtype: generic\n",
        "Grid shape: (35, 80)\n",
        "Order: yx\n",
        "** Dimension 1 **\n",
        "   id: lon\n",
        "   Designated a longitude axis.\n",
        "   units:  degrees_east\n",
        "   Length: 80\n",
        "   First:  20.5\n",
        "   Last:   99.5\n",
        "   Other axis attributes:\n",
        "      modulo: 360.0\n",
        "      actual_range: [-179.5  179.5]\n",
        "      long_name: Longitude\n",
        "      standard_name: longitude\n",
        "      axis: X\n",
        "      topology: circular\n",
        "   Python id:  0x2b61450\n",
        "** Dimension 2 **\n",
        "   id: lat\n",
        "   Designated a latitude axis.\n",
        "   units:  degrees_north\n",
        "   Length: 35\n",
        "   First:  0.5\n",
        "   Last:   34.5\n",
        "   Other axis attributes:\n",
        "      actual_range: [-89.5  89.5]\n",
        "      long_name: Latitude\n",
        "      standard_name: latitude\n",
        "      axis: Y\n",
        "   Python id:  0x2b613d0\n",
        "** Dimension 3 **\n",
        "   id: time\n",
        "   Designated a time axis.\n",
        "   units:  days since 0\n",
        "   Length: 1\n",
        "   First:  167.0\n",
        "   Last:   167.0\n",
        "   Other axis attributes:\n",
        "      calendar: gregorian\n",
        "      axis: T\n",
        "   Python id:  0x2b611d0\n",
        "*** End of description for variable_15 ***\n"
       ]
      }
     ],
     "prompt_number": 7
    },
    {
     "cell_type": "markdown",
     "metadata": {
      "internals": {
       "slide_type": "subslide"
      },
      "slideshow": {
       "slide_type": "slide"
      }
     },
     "source": [
      "<center><font face=\"sans-serif\" size=5>Querying the slab</font></center>"
     ]
    },
    {
     "cell_type": "code",
     "collapsed": false,
     "input": [
      "# You can query the order of returned dimensions!\n",
      "print 'Order of dimensions for x is:', x.getOrder()"
     ],
     "language": "python",
     "metadata": {
      "internals": {},
      "slideshow": {
       "slide_type": "fragment"
      }
     },
     "outputs": [
      {
       "output_type": "stream",
       "stream": "stdout",
       "text": [
        "Order of dimensions for x is: tyx\n"
       ]
      }
     ],
     "prompt_number": 8
    },
    {
     "cell_type": "code",
     "collapsed": false,
     "input": [
      "# You can change the order of returned dimensions!\n",
      "x2 = f('sst', latitude=(0., 35.), longitude=(20., 100.), order='xty')\n",
      "print x2.info()"
     ],
     "language": "python",
     "metadata": {
      "internals": {},
      "slideshow": {
       "slide_type": "fragment"
      }
     },
     "outputs": [
      {
       "output_type": "stream",
       "stream": "stdout",
       "text": [
        "*** Description of Slab variable_20 ***\n",
        "id: variable_20\n",
        "shape: (80, 12, 35)\n",
        "filename: \n",
        "missing_value: 1e+20\n",
        "comments: \n",
        "grid_name: <None>\n",
        "grid_type: generic\n",
        "time_statistic: \n",
        "long_name: \n",
        "units: \n",
        "tileIndex: None\n",
        "autoApiInfo: <AutoAPI.AutoAPI.Info instance at 0x2b69290>\n",
        "Grid has Python id 0x2b61110.\n",
        "Gridtype: generic\n",
        "Grid shape: (35, 80)\n",
        "Order: yx\n",
        "** Dimension 1 **\n",
        "   id: lon\n",
        "   Designated a longitude axis.\n",
        "   units:  degrees_east\n",
        "   Length: 80\n",
        "   First:  20.5\n",
        "   Last:   99.5\n",
        "   Other axis attributes:\n",
        "      modulo: 360.0\n",
        "      actual_range: [-179.5  179.5]\n",
        "      long_name: Longitude\n",
        "      standard_name: longitude\n",
        "      axis: X\n",
        "      topology: circular\n",
        "   Python id:  0x2b61610\n",
        "** Dimension 2 **\n",
        "   id: time\n",
        "   Designated a time axis.\n",
        "   units:  days since 0\n",
        "   Length: 12\n",
        "   First:  15.5\n",
        "   Last:   350.5\n",
        "   Other axis attributes:\n",
        "      calendar: gregorian\n",
        "      axis: T\n",
        "   Python id:  0x2b61150\n",
        "** Dimension 3 **\n",
        "   id: lat\n",
        "   Designated a latitude axis.\n",
        "   units:  degrees_north\n",
        "   Length: 35\n",
        "   First:  0.5\n",
        "   Last:   34.5\n",
        "   Other axis attributes:\n",
        "      actual_range: [-89.5  89.5]\n",
        "      long_name: Latitude\n",
        "      standard_name: latitude\n",
        "      axis: Y\n",
        "   Python id:  0x2b61590\n",
        "*** End of description for variable_20 ***\n",
        "None\n"
       ]
      }
     ],
     "prompt_number": 9
    },
    {
     "cell_type": "code",
     "collapsed": false,
     "input": [
      "# If I just want to ensure that time as my first axis\n",
      "x3 = f('sst', order='t...')\n",
      "x3.info()"
     ],
     "language": "python",
     "metadata": {
      "internals": {},
      "slideshow": {
       "slide_type": "fragment"
      }
     },
     "outputs": [
      {
       "output_type": "stream",
       "stream": "stdout",
       "text": [
        "*** Description of Slab sst ***\n",
        "id: sst\n",
        "shape: (12, 180, 360)\n",
        "filename: \n",
        "missing_value: 1e+20\n",
        "comments: \n",
        "grid_name: <None>\n",
        "grid_type: generic\n",
        "time_statistic: \n",
        "long_name: \n",
        "units: \n",
        "tileIndex: None\n",
        "autoApiInfo: <AutoAPI.AutoAPI.Info instance at 0x2b69680>\n",
        "Grid has Python id 0x2b56dd0.\n",
        "Gridtype: generic\n",
        "Grid shape: (180, 360)\n",
        "Order: yx\n",
        "** Dimension 1 **\n",
        "   id: time\n",
        "   Designated a time axis.\n",
        "   units:  days since 0\n",
        "   Length: 12\n",
        "   First:  15.5\n",
        "   Last:   350.5\n",
        "   Other axis attributes:\n",
        "      calendar: gregorian\n",
        "      axis: T\n",
        "   Python id:  0x2b565d0\n",
        "** Dimension 2 **\n",
        "   id: lat\n",
        "   Designated a latitude axis.\n",
        "   units:  degrees_north\n",
        "   Length: 180\n",
        "   First:  89.5\n",
        "   Last:   -89.5\n",
        "   Other axis attributes:\n",
        "      actual_range: [-89.5  89.5]\n",
        "      long_name: Latitude\n",
        "      standard_name: latitude\n",
        "      axis: Y\n",
        "   Python id:  0x2b562d0\n",
        "** Dimension 3 **\n",
        "   id: lon\n",
        "   Designated a longitude axis.\n",
        "   units:  degrees_east\n",
        "   Length: 360\n",
        "   First:  -179.5\n",
        "   Last:   179.5\n",
        "   Other axis attributes:\n",
        "      modulo: 360.0\n",
        "      actual_range: [-179.5  179.5]\n",
        "      long_name: Longitude\n",
        "      standard_name: longitude\n",
        "      axis: X\n",
        "      topology: circular\n",
        "   Python id:  0x2b56e10\n",
        "*** End of description for sst ***\n"
       ]
      }
     ],
     "prompt_number": 10
    },
    {
     "cell_type": "code",
     "collapsed": false,
     "input": [
      "# You can check the axis and its properties\n",
      "lat_axis = x2.getLatitude()\n",
      "print lat_axis.info()\n",
      "lat_bounds = lat_axis.getBounds()\n",
      "#print lat_bounds"
     ],
     "language": "python",
     "metadata": {
      "internals": {},
      "slideshow": {
       "slide_type": "fragment"
      }
     },
     "outputs": [
      {
       "output_type": "stream",
       "stream": "stdout",
       "text": [
        "   id: lat\n",
        "   Designated a latitude axis.\n",
        "   units:  degrees_north\n",
        "   Length: 35\n",
        "   First:  0.5\n",
        "   Last:   34.5\n",
        "   Other axis attributes:\n",
        "      actual_range: [-89.5  89.5]\n",
        "      long_name: Latitude\n",
        "      standard_name: latitude\n",
        "      axis: Y\n",
        "   Python id:  0x2b61590\n",
        "None\n"
       ]
      }
     ],
     "prompt_number": 11
    },
    {
     "cell_type": "code",
     "collapsed": false,
     "input": [
      "# Axes can be retrieved by index position\n",
      "my_ax = x.getAxis(0)\n",
      "print my_ax.info()"
     ],
     "language": "python",
     "metadata": {
      "internals": {
       "slide_helper": "subslide_end"
      },
      "slide_helper": "slide_end",
      "slideshow": {
       "slide_type": "fragment"
      }
     },
     "outputs": [
      {
       "output_type": "stream",
       "stream": "stdout",
       "text": [
        "   id: time\n",
        "   Designated a time axis.\n",
        "   units:  days since 0\n",
        "   Length: 12\n",
        "   First:  15.5\n",
        "   Last:   350.5\n",
        "   Other axis attributes:\n",
        "      calendar: gregorian\n",
        "      axis: T\n",
        "   Python id:  0x2b56610\n",
        "None\n"
       ]
      }
     ],
     "prompt_number": 12
    },
    {
     "cell_type": "markdown",
     "metadata": {
      "internals": {
       "slide_type": "subslide"
      },
      "slideshow": {
       "slide_type": "slide"
      }
     },
     "source": [
      "<center><font face=\"sans-serif\" size=5>Bounds!</font></center>"
     ]
    },
    {
     "cell_type": "code",
     "collapsed": false,
     "input": [
      "#hideme\n",
      "from IPython.core.display import Image \n",
      "Image(filename='img/bounds.png')"
     ],
     "language": "python",
     "metadata": {
      "internals": {
       "slide_helper": "subslide_end"
      },
      "slide_helper": "subslide_end",
      "slideshow": {
       "slide_type": "fragment"
      }
     },
     "outputs": [
      {
       "metadata": {},
       "output_type": "pyout",
       "png": "[encoded data removed]",
       "prompt_number": 13,
       "text": [
        "<IPython.core.display.Image at 0x1e96a50>"
       ]
      }
     ],
     "prompt_number": 13
    },
    {
     "cell_type": "markdown",
     "metadata": {
      "internals": {
       "slide_type": "subslide"
      },
      "slideshow": {
       "slide_type": "subslide"
      }
     },
     "source": [
      "<center><font face=\"sans-serif\" size=5>Specifying precise regions to extract</font></center>"
     ]
    },
    {
     "cell_type": "markdown",
     "metadata": {
      "internals": {},
      "slideshow": {
       "slide_type": "fragment"
      }
     },
     "source": [
      "* If we need a specific point - say lat, lon = 32.1, 100.3"
     ]
    },
    {
     "cell_type": "code",
     "collapsed": false,
     "input": [
      "x3 = f('sst', latitude=(32.1, 32.1, 'cob'), longitude=(100.3, 100.3, 'cob'))\n",
      "x3.shape"
     ],
     "language": "python",
     "metadata": {
      "internals": {},
      "slideshow": {
       "slide_type": "fragment"
      }
     },
     "outputs": [
      {
       "metadata": {},
       "output_type": "pyout",
       "prompt_number": 14,
       "text": [
        "(12, 1, 1)"
       ]
      }
     ],
     "prompt_number": 14
    },
    {
     "cell_type": "markdown",
     "metadata": {
      "internals": {
       "slide_helper": "subslide_end"
      },
      "slide_helper": "slide_end",
      "slideshow": {
       "slide_type": "fragment"
      }
     },
     "source": [
      "<pre>In the args of latitute / longitude, we can pass thrid option as 'cob', 'oob', 'ccb', etc.,\n",
      "  * The first 2 positions are either 'c'losed or 'o'pen \n",
      "  * The 3rd position is 'b'ound or 'e'xtend or .....</pre>"
     ]
    },
    {
     "cell_type": "markdown",
     "metadata": {
      "internals": {
       "slide_type": "subslide"
      },
      "slideshow": {
       "slide_type": "slide"
      }
     },
     "source": [
      "<center><font face=\"sans-serif\" size=5>cdutil \u2010 <b>overview</b></font></center>"
     ]
    },
    {
     "cell_type": "markdown",
     "metadata": {
      "internals": {},
      "slideshow": {
       "slide_type": "fragment"
      }
     },
     "source": [
      "* Set of <b>c</b>limate <b>d</b>ata specific <b>util</b>ities"
     ]
    },
    {
     "cell_type": "markdown",
     "metadata": {
      "internals": {},
      "slideshow": {
       "slide_type": "fragment"
      }
     },
     "source": [
      "* The cdutil Package contains a collection of sub\u2010packages useful to deal with Climate Data"
     ]
    },
    {
     "cell_type": "markdown",
     "metadata": {
      "internals": {
       "slide_helper": "subslide_end"
      },
      "slide_helper": "slide_end",
      "slideshow": {
       "slide_type": "fragment"
      }
     },
     "source": [
      "* Sub\u2010components are:\n",
      "    - <b>region</b> : specify our own region as variable instead of lat, lon\n",
      "    - <b>times</b> : tools to deal with the time dimension\n",
      "    - <b>horizontal</b>: lat, lon regrid\n",
      "    - <b>pressure</b> : level/pressure regrid\n",
      "    - <b>averager</b> : function will help to do average/sum over some particular dimension[s]\n",
      "    - & more ..."
     ]
    },
    {
     "cell_type": "markdown",
     "metadata": {
      "internals": {
       "slide_type": "subslide"
      },
      "slideshow": {
       "slide_type": "slide"
      }
     },
     "source": [
      "<center><font face=\"sans-serif\" size=5>cdutil - <b>region</b></font></center>"
     ]
    },
    {
     "cell_type": "markdown",
     "metadata": {
      "internals": {},
      "slideshow": {
       "slide_type": "fragment"
      }
     },
     "source": [
      "* The <b>cdutil.region</b> module allows the user to extract a region \"<b>exactly</b>\". <br><br>\n",
      "    i.e. resetting the latitude and longitude bounds to match the area \"<b>exactly</b>\",<br>\n",
      "    therefore computing an \"<b>exact</b>\" average when passed to the averager function."
     ]
    },
    {
     "cell_type": "markdown",
     "metadata": {
      "internals": {},
      "slideshow": {
       "slide_type": "fragment"
      }
     },
     "source": [
      "* Predefined regions are:\n",
      "    - AntarcticZone, AAZ (South of latitude 66.6S)\n",
      "    - ArcticZone, AZ (North of latitude 66.6N)\n",
      "    - NorthernHemisphere, NH <font color='blue'># useful for dataset with latitude crossing the equator</font>\n",
      "    - SouthernHemisphere, SH\n",
      "    - Tropics (latitudes band: 23.4S, 23.4N)"
     ]
    },
    {
     "cell_type": "markdown",
     "metadata": {
      "internals": {},
      "slideshow": {
       "slide_type": "fragment"
      }
     },
     "source": [
      "* cdms2 selector to extract \u201cexact\u201d region <br><br>\n",
      "i.e. reset bounds correctly so averaging account for only \"actual\" area averaged,\n",
      "not the full cell.<br><br>\n",
      "<font color='brown'>data = f(\"var\", cdutil.region.NorthernHemisphere) </font>"
     ]
    },
    {
     "cell_type": "code",
     "collapsed": false,
     "input": [
      "import cdutil\n",
      "data = f(\"sst\", cdutil.region.NorthernHemisphere) \n",
      "data.shape"
     ],
     "language": "python",
     "metadata": {
      "internals": {},
      "slideshow": {
       "slide_type": "fragment"
      }
     },
     "outputs": [
      {
       "metadata": {},
       "output_type": "pyout",
       "prompt_number": 15,
       "text": [
        "(12, 90, 360)"
       ]
      }
     ],
     "prompt_number": 15
    },
    {
     "cell_type": "markdown",
     "metadata": {
      "internals": {},
      "slideshow": {
       "slide_type": "fragment"
      }
     },
     "source": [
      "* Creating your own regions"
     ]
    },
    {
     "cell_type": "code",
     "collapsed": false,
     "input": [
      "# specify NINO domain latitute & longitude\n",
      "NINO34 = cdms2.selectors.Selector(cdutil.region.domain(latitude=(-5., 5.), longitude=(190., 240.)))"
     ],
     "language": "python",
     "metadata": {
      "internals": {},
      "slideshow": {
       "slide_type": "fragment"
      }
     },
     "outputs": [],
     "prompt_number": 16
    },
    {
     "cell_type": "code",
     "collapsed": false,
     "input": [
      "# specify Indian domain latitute & longitude\n",
      "India = cdms2.selectors.Selector(cdutil.region.domain(latitude=(0., 40.), longitude=(60., 100.)))"
     ],
     "language": "python",
     "metadata": {
      "internals": {},
      "slideshow": {
       "slide_type": "fragment"
      }
     },
     "outputs": [],
     "prompt_number": 17
    },
    {
     "cell_type": "code",
     "collapsed": false,
     "input": [
      "Idata = f(\"sst\", India) \n",
      "Idata.shape"
     ],
     "language": "python",
     "metadata": {
      "internals": {
       "slide_helper": "subslide_end"
      },
      "slide_helper": "slide_end",
      "slideshow": {
       "slide_type": "fragment"
      }
     },
     "outputs": [
      {
       "metadata": {},
       "output_type": "pyout",
       "prompt_number": 18,
       "text": [
        "(12, 40, 40)"
       ]
      }
     ],
     "prompt_number": 18
    },
    {
     "cell_type": "markdown",
     "metadata": {
      "internals": {
       "slide_type": "subslide"
      },
      "slideshow": {
       "slide_type": "slide"
      }
     },
     "source": [
      "<center><font face=\"sans-serif\" size=5>Interpolation (<b>re\u2010gridding</b>)</font></center>"
     ]
    },
    {
     "cell_type": "heading",
     "level": 4,
     "metadata": {
      "internals": {},
      "slideshow": {
       "slide_type": "fragment"
      }
     },
     "source": [
      "<center>Horizontal Regrid</center>"
     ]
    },
    {
     "cell_type": "markdown",
     "metadata": {
      "internals": {},
      "slideshow": {
       "slide_type": "fragment"
      }
     },
     "source": [
      "* Lets do interpolation over latitude & longitude from one grid into another grid/resolution"
     ]
    },
    {
     "cell_type": "code",
     "collapsed": false,
     "input": [
      "# Suppose we have a slab\n",
      "ds1 = f('sst', latitude=(0., 35.), longitude=(20., 100.), time=('0-6-1', '0-6-31'), order='tyx')\n",
      "f.close()\n",
      "print 'ds1.shape = ', ds1.shape, 'Axis order=', ds1.getOrder()"
     ],
     "language": "python",
     "metadata": {
      "internals": {},
      "slideshow": {
       "slide_type": "fragment"
      }
     },
     "outputs": [
      {
       "output_type": "stream",
       "stream": "stdout",
       "text": [
        "ds1.shape =  (1, 35, 80) Axis order= tyx\n"
       ]
      }
     ],
     "prompt_number": 19
    },
    {
     "cell_type": "code",
     "collapsed": false,
     "input": [
      "# Let us now extract another dataset.\n",
      "f2 = cdms2.open('data/Climatology/NCEP_NCAR_Climatology_ltm/Surface/slp.mon.ltm.nc')\n",
      "ds2 = f2('slp', latitude=(0., 35.), longitude=(20., 100.), time=('1-6-1', '1-6-30'))\n",
      "print 'ds2.shape = ', ds2.shape, 'Axis order =', ds2.getOrder()  "
     ],
     "language": "python",
     "metadata": {
      "internals": {},
      "slideshow": {
       "slide_type": "fragment"
      }
     },
     "outputs": [
      {
       "output_type": "stream",
       "stream": "stdout",
       "text": [
        "ds2.shape =  (1, 15, 33) Axis order = tyx\n"
       ]
      }
     ],
     "prompt_number": 20
    },
    {
     "cell_type": "markdown",
     "metadata": {
      "internals": {},
      "slideshow": {
       "slide_type": "fragment"
      }
     },
     "source": [
      "* I want to transform ds2 into the grid in ds1\n"
     ]
    },
    {
     "cell_type": "code",
     "collapsed": false,
     "input": [
      "# Lets transform ds2 into the grid in ds1\n",
      "ds3 = ds2.regrid(ds1.getGrid())\n",
      "print 'ds3.shape = ', ds3.shape, 'Axis order =', ds3.getOrder()"
     ],
     "language": "python",
     "metadata": {
      "internals": {},
      "slideshow": {
       "slide_type": "fragment"
      }
     },
     "outputs": [
      {
       "output_type": "stream",
       "stream": "stdout",
       "text": [
        "ds3.shape =  (1, 35, 80) Axis order = tyx\n"
       ]
      },
      {
       "output_type": "stream",
       "stream": "stderr",
       "text": [
        "/usr/local/uvcdat/1.5.1/lib/python2.7/site-packages/cdms2/avariable.py:1060: Warning: \n",
        "avariable.regrid: We chose regridTool = esmf for you among the following choices:\n",
        "   Tools ->    'regrid2' (old behavior)\n",
        "               'esmf' (conserve, patch, linear) or \n",
        "               'libcf' (linear)\n",
        "  warnings.warn(message, Warning)\n",
        "/usr/local/uvcdat/1.5.1/lib/python2.7/site-packages/cdms2/avariable.py:1066: Warning: \n",
        "avariable.regrid: We chose regridMethod = linear for you among the following choices: \n",
        "    'conserve' or 'linear' or 'patch'\n",
        "  warnings.warn(message, Warning)\n"
       ]
      }
     ],
     "prompt_number": 21
    },
    {
     "cell_type": "code",
     "collapsed": false,
     "input": [
      "# getGrid() function returns the grid type and resolution.\n",
      "ds1.getGrid()"
     ],
     "language": "python",
     "metadata": {
      "internals": {},
      "slideshow": {
       "slide_type": "fragment"
      }
     },
     "outputs": [
      {
       "metadata": {},
       "output_type": "pyout",
       "prompt_number": 22,
       "text": [
        "Grid has Python id 0x2b61990.\n",
        "Gridtype: generic\n",
        "Grid shape: (35, 80)\n",
        "Order: yx"
       ]
      }
     ],
     "prompt_number": 22
    },
    {
     "cell_type": "markdown",
     "metadata": {
      "internals": {},
      "slideshow": {
       "slide_type": "fragment"
      }
     },
     "source": [
      "* Alternate regridder (generate it as function)"
     ]
    },
    {
     "cell_type": "code",
     "collapsed": false,
     "input": [
      "# import Horizontal function from regrid2 module\n",
      "from regrid2 import Horizontal\n",
      "# get the source grid\n",
      "ingrid = ds2.getGrid()\n",
      "# get the destination grid\n",
      "outgrid = ds1.getGrid()\n",
      "# generate the function by passing in & out grid as args\n",
      "# Horizontal will be used to regrid over lat, lon region\n",
      "horizontalRegridFunc = Horizontal(ingrid, outgrid)\n",
      "# pass the data into the function which we generated in just above!\n",
      "new_ds2 = horizontalRegridFunc(ds2)   \n",
      "print \"original data shape\", ds2.shape\n",
      "print \"after regrid\", new_ds2.shape"
     ],
     "language": "python",
     "metadata": {
      "internals": {},
      "slideshow": {
       "slide_type": "fragment"
      }
     },
     "outputs": [
      {
       "output_type": "stream",
       "stream": "stdout",
       "text": [
        "original data shape (1, 15, 33)\n",
        "after regrid (1, 35, 80)\n"
       ]
      }
     ],
     "prompt_number": 23
    },
    {
     "cell_type": "markdown",
     "metadata": {
      "internals": {},
      "slideshow": {
       "slide_type": "fragment"
      }
     },
     "source": [
      "* We can retain the function '<b>horizontalRegridFunc(data)</b>' in the scope of program and use it whenever we need to convert same ingrid data into that outgrid resolution."
     ]
    },
    {
     "cell_type": "heading",
     "level": 4,
     "metadata": {
      "internals": {},
      "slideshow": {
       "slide_type": "fragment"
      }
     },
     "source": [
      "<center>Vertical Regrid</center>"
     ]
    },
    {
     "cell_type": "markdown",
     "metadata": {
      "internals": {},
      "slideshow": {
       "slide_type": "fragment"
      }
     },
     "source": [
      "* Lets do interpolation over level axis from one level/pressure grid into another level/pressure grid/resolution"
     ]
    },
    {
     "cell_type": "markdown",
     "metadata": {
      "internals": {},
      "slideshow": {
       "slide_type": "fragment"
      }
     },
     "source": [
      "* You can regrid pressure\u2010level coordinates in the vertical axis using the <b>pressureRegrid()</b> method."
     ]
    },
    {
     "cell_type": "markdown",
     "metadata": {
      "internals": {},
      "slideshow": {
       "slide_type": "fragment"
      }
     },
     "source": [
      "* You need to define, or use an existing, vertical axis."
     ]
    },
    {
     "cell_type": "markdown",
     "metadata": {
      "internals": {},
      "slideshow": {
       "slide_type": "fragment"
      }
     },
     "source": [
      "* Then use the pressureRegrid method on the variable you wish to regrid, passing it the new level as the argument"
     ]
    },
    {
     "cell_type": "markdown",
     "metadata": {
      "internals": {},
      "slideshow": {
       "slide_type": "fragment"
      }
     },
     "source": [
      "* If var is the variable to regrid and the newlevs is the vertical axis to regrid to: <pre>\n",
      "  <font color='brown'> >>> var_on_new_levels = var.pressureRegrid(levout) </font> </pre>"
     ]
    },
    {
     "cell_type": "code",
     "collapsed": false,
     "input": [
      "# open & get uwnd data with pressure level\n",
      "f3 = cdms2.open('data/Climatology/NCEP_NCAR_Climatology_ltm/Levels/uwnd.jan.ltm.nc')\n",
      "u = f3('uwnd')\n",
      "f3.close()\n",
      "print \"U shape\", u.shape\n",
      "# get the level axis\n",
      "u.getLevel()"
     ],
     "language": "python",
     "metadata": {
      "internals": {},
      "slideshow": {
       "slide_type": "fragment"
      }
     },
     "outputs": [
      {
       "output_type": "stream",
       "stream": "stdout",
       "text": [
        "U shape (1, 17, 73, 144)\n"
       ]
      },
      {
       "metadata": {},
       "output_type": "pyout",
       "prompt_number": 24,
       "text": [
        "   id: level\n",
        "   Designated a level axis.\n",
        "   units:  millibar\n",
        "   Length: 17\n",
        "   First:  1000.0\n",
        "   Last:   10.0\n",
        "   Other axis attributes:\n",
        "      positive: down\n",
        "      actual_range: [ 1000.    10.]\n",
        "      long_name: Level\n",
        "      GRIB_name: hPa\n",
        "      GRIB_id: [100]\n",
        "      axis: Z\n",
        "   Python id:  0x32e75d0"
       ]
      }
     ],
     "prompt_number": 24
    },
    {
     "cell_type": "code",
     "collapsed": false,
     "input": [
      "# this will return the actual value or index of the level axis\n",
      "u.getLevel()[:]"
     ],
     "language": "python",
     "metadata": {
      "internals": {},
      "slideshow": {
       "slide_type": "fragment"
      }
     },
     "outputs": [
      {
       "metadata": {},
       "output_type": "pyout",
       "prompt_number": 25,
       "text": [
        "array([ 1000.,   925.,   850.,   700.,   600.,   500.,   400.,   300.,\n",
        "         250.,   200.,   150.,   100.,    70.,    50.,    30.,    20.,\n",
        "          10.], dtype=float32)"
       ]
      }
     ],
     "prompt_number": 25
    },
    {
     "cell_type": "markdown",
     "metadata": {
      "internals": {},
      "slideshow": {
       "slide_type": "fragment"
      }
     },
     "source": [
      "Lets create axis which contains only 850 hPa and 200 hPa pressure levels "
     ]
    },
    {
     "cell_type": "code",
     "collapsed": false,
     "input": [
      "# Lets create our own level axis\n",
      "levAxis = cdms2.createAxis([850., 200.], id='level')\n",
      "levAxis.designateLevel()\n",
      "levAxis"
     ],
     "language": "python",
     "metadata": {
      "internals": {},
      "slideshow": {
       "slide_type": "fragment"
      }
     },
     "outputs": [
      {
       "metadata": {},
       "output_type": "pyout",
       "prompt_number": 26,
       "text": [
        "   id: level\n",
        "   Designated a level axis.\n",
        "   Length: 2\n",
        "   First:  850.0\n",
        "   Last:   200.0\n",
        "   Other axis attributes:\n",
        "      axis: Z\n",
        "   Python id:  0x2efeb90"
       ]
      }
     ],
     "prompt_number": 26
    },
    {
     "cell_type": "code",
     "collapsed": false,
     "input": [
      "# do pressure regrid\n",
      "u_850_200 = u.pressureRegrid(levAxis)\n",
      "print \"Original U shape\", u.shape\n",
      "print \"After pressure regrided u shape\", u_850_200.shape\n",
      "u_850_200.getLevel()"
     ],
     "language": "python",
     "metadata": {
      "internals": {},
      "slideshow": {
       "slide_type": "fragment"
      }
     },
     "outputs": [
      {
       "output_type": "stream",
       "stream": "stdout",
       "text": [
        "Original U shape (1, 17, 73, 144)\n",
        "After pressure regrided u shape (1, 2, 73, 144)\n"
       ]
      },
      {
       "metadata": {},
       "output_type": "pyout",
       "prompt_number": 27,
       "text": [
        "   id: level\n",
        "   Designated a level axis.\n",
        "   Length: 2\n",
        "   First:  850.0\n",
        "   Last:   200.0\n",
        "   Other axis attributes:\n",
        "      axis: Z\n",
        "   Python id:  0x2efec10"
       ]
      }
     ],
     "prompt_number": 27
    },
    {
     "cell_type": "markdown",
     "metadata": {
      "internals": {},
      "slideshow": {
       "slide_type": "fragment"
      }
     },
     "source": [
      "* Alternate regridder (generate it as function)"
     ]
    },
    {
     "cell_type": "code",
     "collapsed": false,
     "input": [
      "# import PressureRegridder function from regrid2 module\n",
      "from regrid2 import PressureRegridder\n",
      "# generate the function by passing in & out level axis as args\n",
      "# PressureRegridder will be used to regrid over level axis\n",
      "verticalRegridFunc = PressureRegridder(u.getLevel(), levAxis)\n",
      "# pass the data into the function which we generated in just above!\n",
      "u_new = verticalRegridFunc(u)\n",
      "print \"Original U shape\", u.shape\n",
      "print \"After pressure regrided u shape\", u_850_200.shape"
     ],
     "language": "python",
     "metadata": {
      "internals": {},
      "slideshow": {
       "slide_type": "fragment"
      }
     },
     "outputs": [
      {
       "output_type": "stream",
       "stream": "stdout",
       "text": [
        "Original U shape (1, 17, 73, 144)\n",
        "After pressure regrided u shape (1, 2, 73, 144)\n"
       ]
      }
     ],
     "prompt_number": 28
    },
    {
     "cell_type": "markdown",
     "metadata": {},
     "source": [
      "* We can do regrid even different level axis like as follows"
     ]
    },
    {
     "cell_type": "code",
     "collapsed": false,
     "input": [
      "import numpy\n",
      "lev_50_intervals = numpy.arange(1000, 10, -50)\n",
      "print lev_50_intervals\n",
      "# Lets create our own level axis\n",
      "lev50Axis = cdms2.createAxis(lev_50_intervals, id='level')\n",
      "lev50Axis.designateLevel()\n",
      "print lev50Axis"
     ],
     "language": "python",
     "metadata": {},
     "outputs": [
      {
       "output_type": "stream",
       "stream": "stdout",
       "text": [
        "[1000  950  900  850  800  750  700  650  600  550  500  450  400  350  300\n",
        "  250  200  150  100   50]\n",
        "   id: level\n",
        "   Designated a level axis.\n",
        "   Length: 20\n",
        "   First:  1000\n",
        "   Last:   50\n",
        "   Other axis attributes:\n",
        "      axis: Z\n",
        "   Python id:  0x32e7790\n",
        "\n"
       ]
      }
     ],
     "prompt_number": 29
    },
    {
     "cell_type": "code",
     "collapsed": false,
     "input": [
      "# do pressure regrid\n",
      "u_50_intervals = u.pressureRegrid(lev50Axis)\n",
      "print \"Original U shape\", u.shape\n",
      "print \"After pressure regrided u shape\", u_50_intervals.shape\n",
      "u_50_intervals.getLevel()"
     ],
     "language": "python",
     "metadata": {},
     "outputs": [
      {
       "output_type": "stream",
       "stream": "stdout",
       "text": [
        "Original U shape (1, 17, 73, 144)\n",
        "After pressure regrided u shape (1, 20, 73, 144)\n"
       ]
      },
      {
       "metadata": {},
       "output_type": "pyout",
       "prompt_number": 30,
       "text": [
        "   id: level\n",
        "   Designated a level axis.\n",
        "   Length: 20\n",
        "   First:  1000\n",
        "   Last:   50\n",
        "   Other axis attributes:\n",
        "      axis: Z\n",
        "   Python id:  0x32e72d0"
       ]
      }
     ],
     "prompt_number": 30
    },
    {
     "cell_type": "markdown",
     "metadata": {
      "internals": {},
      "slideshow": {
       "slide_type": "fragment"
      }
     },
     "source": [
      "* We can retain the function '<b>verticalRegridFunc(data)</b>' in the scope of program and use it, whenever we need to convert same ingrid data into that outgrid resolution."
     ]
    },
    {
     "cell_type": "markdown",
     "metadata": {
      "internals": {},
      "slideshow": {
       "slide_type": "fragment"
      }
     },
     "source": [
      "* Also uv-cdat supports other regridders like\n",
      "   - BicubicRegridder,\n",
      "   - BilinearRegridder,\n",
      "   - ConservativeRegridder,\n",
      "   - CrossSectionRegridder,\n",
      "   - DistwgtRegridder,\n",
      "   - ESMFRegrid,\n",
      "   - ESMP,\n",
      "   - & more"
     ]
    },
    {
     "cell_type": "code",
     "collapsed": false,
     "input": [
      "# return the available module functions\n",
      "import regrid2\n",
      "dir(regrid2)"
     ],
     "language": "python",
     "metadata": {
      "internals": {
       "slide_helper": "subslide_end"
      },
      "slide_helper": "slide_end",
      "slideshow": {
       "slide_type": "fragment"
      }
     },
     "outputs": [
      {
       "metadata": {},
       "output_type": "pyout",
       "prompt_number": 31,
       "text": [
        "['BicubicRegridder',\n",
        " 'BilinearRegridder',\n",
        " 'ConservativeRegridder',\n",
        " 'CrossSectionRegridder',\n",
        " 'DistwgtRegridder',\n",
        " 'ESMFRegrid',\n",
        " 'ESMP',\n",
        " 'GenericRegrid',\n",
        " 'Horizontal',\n",
        " 'LibCFRegrid',\n",
        " 'PressureRegridder',\n",
        " 'RegridError',\n",
        " 'Regridder',\n",
        " '__all__',\n",
        " '__builtins__',\n",
        " '__doc__',\n",
        " '__file__',\n",
        " '__name__',\n",
        " '__package__',\n",
        " '__path__',\n",
        " '_regrid',\n",
        " '_scrip',\n",
        " 'crossSection',\n",
        " 'error',\n",
        " 'esmf',\n",
        " 'gsRegrid',\n",
        " 'horizontal',\n",
        " 'mvESMFRegrid',\n",
        " 'mvGenericRegrid',\n",
        " 'mvLibCFRegrid',\n",
        " 'pressure',\n",
        " 'readRegridder',\n",
        " 'scrip']"
       ]
      }
     ],
     "prompt_number": 31
    },
    {
     "cell_type": "markdown",
     "metadata": {
      "internals": {
       "slide_type": "subslide"
      },
      "slideshow": {
       "slide_type": "slide"
      }
     },
     "source": [
      "<center><font face=\"sans-serif\" size=5> cdms2 - Using <b>mask</b></font></center>"
     ]
    },
    {
     "cell_type": "markdown",
     "metadata": {
      "internals": {},
      "slideshow": {
       "slide_type": "fragment"
      }
     },
     "source": [
      "* Modify the masked array of the data by \n",
      "<pre>\n",
      "    - get masked array from one dataset or create it by yourself\n",
      "    - set that masked array to another dataset </pre>"
     ]
    },
    {
     "cell_type": "code",
     "collapsed": false,
     "input": [
      "# get the mask array from ds1 (sst) data\n",
      "sst_mask = cdms2.MV2.getmask(ds1(order='tyx'))  # or 'ds1.mask' will return the same\n",
      "print 'sst_mask.shape after reorder = ', sst_mask.shape\n",
      "print sst_mask.__class__\n",
      "# So we resize the mask with respect to ds3\n",
      "sst_mask = sst_mask.resize(ds3.shape)\n",
      "# ds3.info()\n",
      "# Create new variable with new mask \n",
      "ds4 = cdms2.createVariable(ds3[:], mask=sst_mask, id='masked_slp', fill_value=1.e+20)\n",
      "ds4.comments = 'set mask from observed HadISST dataset'\n",
      "ds4.info()"
     ],
     "language": "python",
     "metadata": {
      "internals": {
       "slide_helper": "subslide_end"
      },
      "slide_helper": "slide_end",
      "slideshow": {
       "slide_type": "fragment"
      }
     },
     "outputs": [
      {
       "output_type": "stream",
       "stream": "stdout",
       "text": [
        "sst_mask.shape after reorder =  (1, 35, 80)\n",
        "<type 'numpy.ndarray'>\n",
        "*** Description of Slab masked_slp ***\n",
        "id: masked_slp\n",
        "shape: (1, 35, 80)\n",
        "filename: \n",
        "missing_value: 1e+20\n",
        "comments: set mask from observed HadISST dataset\n",
        "grid_name: <None>\n",
        "grid_type: generic\n",
        "time_statistic: \n",
        "long_name: Monthly Longterm Mean of Sea Level Pressure\n",
        "units: millibars\n",
        "autoApiInfo: <AutoAPI.AutoAPI.Info instance at 0x32ebfc8>\n",
        "var_desc: Sea Level Pressure\n",
        "level_desc: Sea Level\n",
        "tileIndex: None\n",
        "dataset: CDC Derived NCEP Reanalysis Products\n",
        "parent_stat: Other\n",
        "statistic: Long Term Mean\n",
        "Grid has Python id 0x32f43d0.\n",
        "Gridtype: generic\n",
        "Grid shape: (35, 80)\n",
        "Order: yx\n",
        "** Dimension 1 **\n",
        "   id: time\n",
        "   Designated a time axis.\n",
        "   units:  hours since 1-1-1 00:00:0.0\n",
        "   Length: 1\n",
        "   First:  3624.0\n",
        "   Last:   3624.0\n",
        "   Other axis attributes:\n",
        "      avg_period: 0029-00-00 00:00:00\n",
        "      delta_t: 0000-01-00 00:00:00\n",
        "      actual_range: [    0.  8016.]\n",
        "      long_name: Time\n",
        "      standard_name: time\n",
        "      prev_avg_period: 0000-00-00 06:00:00\n",
        "      ltm_range: [ 17242392.  17495880.]\n",
        "      calendar: gregorian\n",
        "      axis: T\n",
        "   Python id:  0x32f4250\n",
        "** Dimension 2 **\n",
        "   id: lat\n",
        "   Designated a latitude axis.\n",
        "   units:  degrees_north\n",
        "   Length: 35\n",
        "   First:  0.5\n",
        "   Last:   34.5\n",
        "   Other axis attributes:\n",
        "      actual_range: [-89.5  89.5]\n",
        "      long_name: Latitude\n",
        "      standard_name: latitude\n",
        "      axis: Y\n",
        "   Python id:  0x32f4150\n",
        "** Dimension 3 **\n",
        "   id: lon\n",
        "   Designated a longitude axis.\n",
        "   units:  degrees_east\n",
        "   Length: 80\n",
        "   First:  20.5\n",
        "   Last:   99.5\n",
        "   Other axis attributes:\n",
        "      modulo: 360.0\n",
        "      actual_range: [-179.5  179.5]\n",
        "      long_name: Longitude\n",
        "      standard_name: longitude\n",
        "      axis: X\n",
        "      topology: circular\n",
        "   Python id:  0x32f41d0\n",
        "*** End of description for masked_slp ***\n"
       ]
      }
     ],
     "prompt_number": 32
    },
    {
     "cell_type": "markdown",
     "metadata": {
      "internals": {
       "slide_type": "subslide"
      },
      "slideshow": {
       "slide_type": "slide"
      }
     },
     "source": [
      "<center><font face=\"sans-serif\" size=5>cdscan</font></center>"
     ]
    },
    {
     "cell_type": "markdown",
     "metadata": {
      "internals": {},
      "slideshow": {
       "slide_type": "fragment"
      }
     },
     "source": [
      "* A utility that helps you manage files better."
     ]
    },
    {
     "cell_type": "markdown",
     "metadata": {
      "internals": {},
      "slideshow": {
       "slide_type": "fragment"
      }
     },
     "source": [
      "* When you have many .nc (or .ctl) files you can use this utility to generate a single \u201cxml\u201d file that makes life simple.\n"
     ]
    },
    {
     "cell_type": "markdown",
     "metadata": {
      "internals": {},
      "slideshow": {
       "slide_type": "fragment"
      }
     },
     "source": [
      "* Try the following in your terminal:\n",
      "<pre><font color='brown'>$ cdscan -x \"some_filename.xml\" DATA_PATH/*.nc</font></pre>\n",
      "\n",
      "* You can also change the time axis while you are at it!\n",
      "<pre><font color='brown'>$ cdscan -x \"some_filename.xml\" -i 1 -r \"months since 1-1-1\" DATA_PATH2/*.nc</font>\n",
      "</pre>\n",
      "\n",
      "* To know about more command line options \n",
      "<pre><font color='brown'>$ cdscan --help</font>\n",
      "</pre>"
     ]
    },
    {
     "cell_type": "markdown",
     "metadata": {
      "internals": {},
      "slideshow": {
       "slide_type": "fragment"
      }
     },
     "source": [
      "* Lets do it!\n",
      "* list out the directory <b>'data/Climatology/NCEP_NCAR_Climatology_ltm/Levels' </b>"
     ]
    },
    {
     "cell_type": "code",
     "collapsed": false,
     "input": [
      "!ls data/Climatology/NCEP_NCAR_Climatology_ltm/Levels"
     ],
     "language": "python",
     "metadata": {
      "internals": {},
      "slideshow": {
       "slide_type": "fragment"
      }
     },
     "outputs": [
      {
       "output_type": "stream",
       "stream": "stdout",
       "text": [
        "uwnd.apr.ltm.nc  uwnd.jul.ltm.nc  uwnd.oct.ltm.nc  vwnd.jan.ltm.nc\r\n",
        "uwnd.aug.ltm.nc  uwnd.jun.ltm.nc  uwnd.sep.ltm.nc  vwnd.may.ltm.nc\r\n",
        "uwnd.dec.ltm.nc  uwnd.mar.ltm.nc  vwnd.aug.ltm.nc\r\n",
        "uwnd.feb.ltm.nc  uwnd.may.ltm.nc  vwnd.dec.ltm.nc\r\n",
        "uwnd.jan.ltm.nc  uwnd.nov.ltm.nc  vwnd.feb.ltm.nc\r\n"
       ]
      }
     ],
     "prompt_number": 33
    },
    {
     "cell_type": "markdown",
     "metadata": {
      "internals": {},
      "slideshow": {
       "slide_type": "fragment"
      }
     },
     "source": [
      "We have monthly climatology in \"<b>12 uwnd</b>\" individual monthly and \"<b>5 vwnd</b>\" mixed monthly nc files. Lets do cdscan !"
     ]
    },
    {
     "cell_type": "code",
     "collapsed": false,
     "input": [
      "# Lets find system uv-cdat cdscan path\n",
      "import sys\n",
      "cdscan = sys.path[1].split('lib')[0] + 'bin/cdscan'\n",
      "print \"cdscan command path is '%s'\" % cdscan\n",
      "print \"* Use the above cdscan command system path to execute the follwoing code *.\\n **Kindly change the cdscan path line startswith ! mark **\""
     ],
     "language": "python",
     "metadata": {
      "internals": {},
      "slideshow": {
       "slide_type": "fragment"
      }
     },
     "outputs": [
      {
       "output_type": "stream",
       "stream": "stdout",
       "text": [
        "cdscan command path is '/usr/local/uvcdat/1.5.1/bin/cdscan'\n",
        "* Use the above cdscan command system path to execute the follwoing code *.\n",
        " **Kindly change the cdscan path line startswith ! mark **\n"
       ]
      }
     ],
     "prompt_number": 34
    },
    {
     "cell_type": "code",
     "collapsed": false,
     "input": [
      "# make sure cdscan cmd path is same as above, otherwise change the below cmd\n",
      "import os\n",
      "current_dir = os.getcwd()\n",
      "datapath = 'data/Climatology/NCEP_NCAR_Climatology_ltm/Levels'\n",
      "if not current_dir.endswith(datapath): os.chdir(datapath)\n",
      "# cdscan -x out.xml -r 'months since 1-1-1' *.nc\n",
      "!/usr/local/uvcdat/1.5.1/bin/cdscan -x wnd.xml -r 'months since 1-1-1' *.nc \n",
      "# back to previous directory\n",
      "if not current_dir.endswith(datapath): os.chdir(current_dir)\n",
      "print 'current', os.getcwd()"
     ],
     "language": "python",
     "metadata": {
      "internals": {},
      "slideshow": {
       "slide_type": "fragment"
      }
     },
     "outputs": [
      {
       "output_type": "stream",
       "stream": "stdout",
       "text": [
        "Finding common directory ...\r\n",
        "Common directory: \r\n",
        "Scanning files ...\r\n",
        "uwnd.apr.ltm.nc\r\n",
        "Setting reference time units to months since 1-1-1\r\n",
        "uwnd.aug.ltm.nc\r\n"
       ]
      },
      {
       "output_type": "stream",
       "stream": "stdout",
       "text": [
        "Setting reference time units to months since 1-1-1\r\n",
        "uwnd.dec.ltm.nc\r\n",
        "Setting reference time units to months since 1-1-1\r\n",
        "uwnd.feb.ltm.nc\r\n",
        "Setting reference time units to months since 1-1-1\r\n",
        "uwnd.jan.ltm.nc\r\n"
       ]
      },
      {
       "output_type": "stream",
       "stream": "stdout",
       "text": [
        "Setting reference time units to months since 1-1-1\r\n",
        "uwnd.jul.ltm.nc\r\n",
        "Setting reference time units to months since 1-1-1\r\n",
        "uwnd.jun.ltm.nc\r\n"
       ]
      },
      {
       "output_type": "stream",
       "stream": "stdout",
       "text": [
        "Setting reference time units to months since 1-1-1\r\n",
        "uwnd.mar.ltm.nc\r\n",
        "Setting reference time units to months since 1-1-1\r\n",
        "uwnd.may.ltm.nc\r\n",
        "Setting reference time units to months since 1-1-1\r\n",
        "uwnd.nov.ltm.nc\r\n"
       ]
      },
      {
       "output_type": "stream",
       "stream": "stdout",
       "text": [
        "Setting reference time units to months since 1-1-1\r\n",
        "uwnd.oct.ltm.nc\r\n",
        "Setting reference time units to months since 1-1-1\r\n",
        "uwnd.sep.ltm.nc\r\n"
       ]
      },
      {
       "output_type": "stream",
       "stream": "stdout",
       "text": [
        "Setting reference time units to months since 1-1-1\r\n",
        "vwnd.aug.ltm.nc\r\n",
        "Setting reference time units to months since 1-1-1\r\n",
        "vwnd.dec.ltm.nc\r\n",
        "Setting reference time units to months since 1-1-1\r\n",
        "vwnd.feb.ltm.nc\r\n"
       ]
      },
      {
       "output_type": "stream",
       "stream": "stdout",
       "text": [
        "Setting reference time units to months since 1-1-1\r\n",
        "vwnd.jan.ltm.nc\r\n",
        "Setting reference time units to months since 1-1-1\r\n",
        "vwnd.may.ltm.nc\r\n"
       ]
      },
      {
       "output_type": "stream",
       "stream": "stdout",
       "text": [
        "Setting reference time units to months since 1-1-1\r\n"
       ]
      },
      {
       "output_type": "stream",
       "stream": "stdout",
       "text": [
        "wnd.xml written\r\n"
       ]
      },
      {
       "output_type": "stream",
       "stream": "stdout",
       "text": [
        "current /media/arulalan/Beta/UVCDAT_Tutorial_Workshop/UV-CDAT_IPy_Notebooks\n"
       ]
      }
     ],
     "prompt_number": 35
    },
    {
     "cell_type": "markdown",
     "metadata": {
      "internals": {},
      "slideshow": {
       "slide_type": "fragment"
      }
     },
     "source": [
      "We did cdscan and created single xml file (<b>wnd.xml</b>) which has all individual nc files links and meta data in it "
     ]
    },
    {
     "cell_type": "code",
     "collapsed": true,
     "input": [
      "!ls -lrth data/Climatology/NCEP_NCAR_Climatology_ltm/Levels        "
     ],
     "language": "python",
     "metadata": {
      "internals": {},
      "slideshow": {
       "slide_type": "fragment"
      }
     },
     "outputs": [
      {
       "output_type": "stream",
       "stream": "stdout",
       "text": [
        "total 11M\r\n",
        "-rwxrwxrwx 1 arulalan arulalan 659K Feb 21 18:53 uwnd.jan.ltm.nc\r\n",
        "-rwxrwxrwx 1 arulalan arulalan 658K Feb 21 19:55 uwnd.feb.ltm.nc\r\n",
        "-rwxrwxrwx 1 arulalan arulalan 655K Feb 21 19:55 uwnd.mar.ltm.nc\r\n",
        "-rwxrwxrwx 1 arulalan arulalan 655K Feb 21 19:56 uwnd.apr.ltm.nc\r\n",
        "-rwxrwxrwx 1 arulalan arulalan 655K Feb 21 19:56 uwnd.may.ltm.nc\r\n",
        "-rwxrwxrwx 1 arulalan arulalan 657K Feb 21 19:56 uwnd.jun.ltm.nc\r\n",
        "-rwxrwxrwx 1 arulalan arulalan 658K Feb 21 19:57 uwnd.jul.ltm.nc\r\n",
        "-rwxrwxrwx 1 arulalan arulalan 659K Feb 21 19:57 uwnd.aug.ltm.nc\r\n",
        "-rwxrwxrwx 1 arulalan arulalan 658K Feb 21 19:57 uwnd.sep.ltm.nc\r\n",
        "-rwxrwxrwx 1 arulalan arulalan 655K Feb 21 19:58 uwnd.oct.ltm.nc\r\n",
        "-rwxrwxrwx 1 arulalan arulalan 653K Feb 21 19:58 uwnd.nov.ltm.nc\r\n",
        "-rwxrwxrwx 1 arulalan arulalan 656K Feb 21 19:58 uwnd.dec.ltm.nc\r\n",
        "-rwxrwxrwx 1 arulalan arulalan 657K Feb 21 23:47 vwnd.jan.ltm.nc\r\n",
        "-rwxrwxrwx 1 arulalan arulalan 658K Feb 21 23:48 vwnd.feb.ltm.nc\r\n",
        "-rwxrwxrwx 1 arulalan arulalan 649K Feb 21 23:49 vwnd.may.ltm.nc\r\n",
        "-rwxrwxrwx 1 arulalan arulalan 647K Feb 21 23:49 vwnd.aug.ltm.nc\r\n",
        "-rwxrwxrwx 1 arulalan arulalan 657K Feb 21 23:49 vwnd.dec.ltm.nc\r\n",
        "-rw-rw-r-- 1 arulalan arulalan 6.3K Jun 23 21:53 wnd.xml\r\n"
       ]
      }
     ],
     "prompt_number": 36
    },
    {
     "cell_type": "markdown",
     "metadata": {
      "internals": {},
      "slideshow": {
       "slide_type": "fragment"
      }
     },
     "source": [
      "Look at the file size of the <b>xml file</b> which we created by cdscan command. It is in <b>size of KB</b> only know."
     ]
    },
    {
     "cell_type": "code",
     "collapsed": false,
     "input": [
      "# Lets access the xml file through cdms2\n",
      "f4 = cdms2.open('data/Climatology/NCEP_NCAR_Climatology_ltm/Levels/wnd.xml')\n",
      "print \"Available Vars in wnd.xml : \",f4.listvariable()\n",
      "print \"\\n U wind info\\n\\n\", f4['uwnd'].info()\n",
      "print \"\\n U Wind Time : \", f4['uwnd'].getTime().asComponentTime()\n",
      "print \"\\n\\n\\nV wind info\\n\\n\", f4['vwnd'].info()\n",
      "print \"\\n V Wind Time : \", f4['vwnd'].getTime().asComponentTime()\n",
      "f4.close()"
     ],
     "language": "python",
     "metadata": {
      "internals": {},
      "slideshow": {
       "slide_type": "fragment"
      }
     },
     "outputs": [
      {
       "output_type": "stream",
       "stream": "stdout",
       "text": [
        "Available Vars in wnd.xml :  ['uwnd', 'bounds_lon', 'vwnd', 'bounds_lat']\n",
        "\n",
        " U wind info\n",
        "\n",
        "*** Description of Slab uwnd ***\n",
        "id: uwnd\n",
        "shape: (12, 17, 73, 144)\n",
        "filename: none\n",
        "missing_value: 1e+20\n",
        "comments: \n",
        "grid_name: grid_73x144\n",
        "grid_type: None\n",
        "time_statistic: \n",
        "long_name: Monthly Longterm Mean of U-Wind\n",
        "units: m/s\n",
        "datatype: Float\n",
        "least_significant_digit: 0\n",
        "var_desc: u-wind\n",
        "level_desc: Multiple levels\n",
        "actual_range: [-24.25310516  49.69792938]\n",
        "precision: 0\n",
        "parent_stat: Other\n",
        "dataset: CDC Derived NCEP Reanalysis Products\n",
        "statistic: Long Term Mean\n",
        "Grid has Python id 0x32f4910.\n",
        "Gridtype: generic\n",
        "Grid shape: (73, 144)\n",
        "Order: yx\n",
        "** Dimension 1 **\n",
        "   id: time\n",
        "   Designated a time axis.\n",
        "   units:  months since 1-1-1\n",
        "   Length: 12\n",
        "   First:  0.0\n",
        "   Last:   11.0\n",
        "   Other axis attributes:\n",
        "      name_in_file: time\n",
        "      datatype: Double\n",
        "      partition: [[ 0  1]\n",
        " [ 1  2]\n",
        " [ 2  3]\n",
        " [ 3  4]\n",
        " [ 4  5]\n",
        " [ 5  6]\n",
        " [ 6  7]\n",
        " [ 7  8]\n",
        " [ 8  9]\n",
        " [ 9 10]\n",
        " [10 11]\n",
        " [11 12]]\n",
        "      isvar: true\n",
        "      calendar: gregorian\n",
        "   Python id:  0x32f4790\n",
        "** Dimension 2 **\n",
        "   id: level\n",
        "   Designated a level axis.\n",
        "   units:  millibar\n",
        "   Length: 17\n",
        "   First:  1000.0\n",
        "   Last:   10.0\n",
        "   Other axis attributes:\n",
        "      datatype: Float\n",
        "      positive: down\n",
        "      actual_range: [ 1000.    10.]\n",
        "      long_name: Level\n",
        "      GRIB_name: hPa\n",
        "      isvar: true\n",
        "      GRIB_id: 100\n",
        "      axis: Z\n",
        "   Python id:  0x32f4890\n",
        "** Dimension 3 **\n",
        "   id: lat\n",
        "   Designated a latitude axis.\n",
        "   units:  degrees_north\n",
        "   Length: 73\n",
        "   First:  90.0\n",
        "   Last:   -90.0\n",
        "   Other axis attributes:\n",
        "      datatype: Float\n",
        "      actual_range: [ 90. -90.]\n",
        "      long_name: Latitude\n",
        "      standard_name: latitude\n",
        "      isvar: true\n",
        "      axis: Y\n",
        "   Python id:  0x32f48d0\n",
        "** Dimension 4 **\n",
        "   id: lon\n",
        "   Designated a longitude axis.\n",
        "   units:  degrees_east\n",
        "   Length: 144\n",
        "   First:  0.0\n",
        "   Last:   357.5\n",
        "   Other axis attributes:\n",
        "      modulo: 360.0\n",
        "      datatype: Float\n",
        "      actual_range: [   0.   357.5]\n",
        "      long_name: Longitude\n",
        "      standard_name: longitude\n",
        "      isvar: true\n",
        "      topology: circular\n",
        "      axis: X\n",
        "   Python id:  0x32f4550\n",
        "*** End of description for uwnd ***\n",
        "None\n",
        "\n",
        " U Wind Time :  [1-1-1 0:0:0.0, 1-2-1 0:0:0.0, 1-3-1 0:0:0.0, 1-4-1 0:0:0.0, 1-5-1 0:0:0.0, 1-6-1 0:0:0.0, 1-7-1 0:0:0.0, 1-8-1 0:0:0.0, 1-9-1 0:0:0.0, 1-10-1 0:0:0.0, 1-11-1 0:0:0.0, 1-12-1 0:0:0.0]\n",
        "\n",
        "\n",
        "\n",
        "V wind info\n",
        "\n",
        "*** Description of Slab vwnd ***\n",
        "id: vwnd\n",
        "shape: (5, 17, 73, 144)\n",
        "filename: none\n",
        "missing_value: 1e+20\n",
        "comments: \n",
        "grid_name: grid_73x144\n",
        "grid_type: None\n",
        "time_statistic: \n",
        "long_name: Monthly Longterm Mean of V-Wind\n",
        "units: m/s\n",
        "datatype: Float\n",
        "least_significant_digit: 0\n",
        "var_desc: v-wind\n",
        "level_desc: Multiple levels\n",
        "actual_range: [-23.72000122  26.6317215]\n",
        "precision: 0\n",
        "parent_stat: Other\n",
        "dataset: CDC Derived NCEP Reanalysis Products\n",
        "statistic: Long Term Mean\n",
        "Grid has Python id 0x32f4910.\n",
        "Gridtype: generic\n",
        "Grid shape: (73, 144)\n",
        "Order: yx\n",
        "** Dimension 1 **\n",
        "   id: time_5\n",
        "   Designated a time axis.\n",
        "   units:  months since 1-1-1\n",
        "   Length: 5\n",
        "   First:  0.0\n",
        "   Last:   11.0\n",
        "   Other axis attributes:\n",
        "      name_in_file: time\n",
        "      datatype: Double\n",
        "      partition: [[0 1]\n",
        " [1 2]\n",
        " [2 3]\n",
        " [3 4]\n",
        " [4 5]]\n",
        "      isvar: true\n",
        "      calendar: gregorian\n",
        "   Python id:  0x32f4610\n",
        "** Dimension 2 **\n",
        "   id: level\n",
        "   Designated a level axis.\n",
        "   units:  millibar\n",
        "   Length: 17\n",
        "   First:  1000.0\n",
        "   Last:   10.0\n",
        "   Other axis attributes:\n",
        "      datatype: Float\n",
        "      positive: down\n",
        "      actual_range: [ 1000.    10.]\n",
        "      long_name: Level\n",
        "      GRIB_name: hPa\n",
        "      isvar: true\n",
        "      GRIB_id: 100\n",
        "      axis: Z\n",
        "   Python id:  0x32f4890\n",
        "** Dimension 3 **\n",
        "   id: lat\n",
        "   Designated a latitude axis.\n",
        "   units:  degrees_north\n",
        "   Length: 73\n",
        "   First:  90.0\n",
        "   Last:   -90.0\n",
        "   Other axis attributes:\n",
        "      datatype: Float\n",
        "      actual_range: [ 90. -90.]\n",
        "      long_name: Latitude\n",
        "      standard_name: latitude\n",
        "      isvar: true\n",
        "      axis: Y\n",
        "   Python id:  0x32f48d0\n",
        "** Dimension 4 **\n",
        "   id: lon\n",
        "   Designated a longitude axis.\n",
        "   units:  degrees_east\n",
        "   Length: 144\n",
        "   First:  0.0\n",
        "   Last:   357.5\n",
        "   Other axis attributes:\n",
        "      modulo: 360.0\n",
        "      datatype: Float\n",
        "      actual_range: [   0.   357.5]\n",
        "      long_name: Longitude\n",
        "      standard_name: longitude\n",
        "      isvar: true\n",
        "      topology: circular\n",
        "      axis: X\n",
        "   Python id:  0x32f4550\n",
        "*** End of description for vwnd ***\n",
        "None\n",
        "\n",
        " V Wind Time :  [1-1-1 0:0:0.0, 1-2-1 0:0:0.0, 1-5-1 0:0:0.0, 1-8-1 0:0:0.0, 1-12-1 0:0:0.0]\n"
       ]
      }
     ],
     "prompt_number": 37
    },
    {
     "cell_type": "markdown",
     "metadata": {
      "internals": {
       "slide_helper": "subslide_end"
      },
      "slide_helper": "slide_end",
      "slideshow": {
       "slide_type": "fragment"
      }
     },
     "source": [
      "* We can do cdsan without worrying what variables each nc files contains.\n",
      "* Just do cdscan over set of nc/ctl/pp/hdf/ binary files where time axis comes in.\n",
      "* Even you can do cdscan over pressure level (where each binary files contain each pressure level axis)\n",
      "* You can overwrite the time axis / level axis while you creating xml file by cdscan command\n",
      "* Read the documentation of cdscan to play with it!"
     ]
    },
    {
     "cell_type": "markdown",
     "metadata": {
      "internals": {
       "slide_type": "subslide"
      },
      "slideshow": {
       "slide_type": "slide"
      }
     },
     "source": [
      "<center><font face=\"sans-serif\" size=5>cdutil - <b>times</b></font></center>"
     ]
    },
    {
     "cell_type": "markdown",
     "metadata": {
      "internals": {},
      "slideshow": {
       "slide_type": "fragment"
      }
     },
     "source": [
      "<center><b>cdutil.times</b> \u2013 for time axes, geared toward climate data</center>"
     ]
    },
    {
     "cell_type": "markdown",
     "metadata": {
      "internals": {},
      "slideshow": {
       "slide_type": "fragment"
      }
     },
     "source": [
      "* <pre><font color='blue'>Climatology, Departures, Anomalies Tools</font> works on <font color='blue'>BOUNDS</font>, <font color='red'>NOT on time values</font>, designed for <b>monthly seasons</b>, \n",
      "but one can create an engine for other kind of data (daily, yearly, etc...). </pre>\n",
      "<pre><font color='brown'>ac = cdutil.times.ANNUALCYCLE.climatology(data)</font> <i><font color='blue'># data may be monthlyDatasetOfManyYears</font> - cdms variable</i></pre>"
     ]
    },
    {
     "cell_type": "markdown",
     "metadata": {
      "internals": {},
      "slideshow": {
       "slide_type": "fragment"
      }
     },
     "source": [
      "* In order to set bounds you can use:\n",
      "<pre><font color='brown'>cdutil.setTimeBoundsMonthly(Obj)</font></pre>\n",
      "<pre><font color='brown'>cdutil.setTimeBoundsYearly(Obj)</font></pre>\n",
      "<pre><font color='brown'>cdutil.setTimeBoundsDaily(Obj, frequency=1)</font></pre>\n",
      "<i>(Obj can be data slab or time axis)</i>"
     ]
    },
    {
     "cell_type": "markdown",
     "metadata": {
      "internals": {},
      "slideshow": {
       "slide_type": "fragment"
      }
     },
     "source": [
      "* Create your own seasons\n",
      "<pre><font color='blue'>MONSOON</font> <font color='brown'>= cdutil.times.Seasons(<font color='blue'>'JJAS'</font>)</font></pre>"
     ]
    },
    {
     "cell_type": "code",
     "collapsed": false,
     "input": [
      "# Create your own seasons:\n",
      "import cdutil, cdms2\n",
      "MONSOON = cdutil.times.Seasons('JJAS')\n",
      "\n",
      "f5 = cdms2.open('data/Climatology/NCEP_NCAR_Climatology_ltm/Levels/wnd.xml', 'r')\n",
      "uwnd_fullyear_data = f5('uwnd', level=850)#, squeeze=1)\n",
      "print 'uwnd_fullyear_data.shape =',uwnd_fullyear_data.shape\n",
      "\n",
      "# set (monthly) bounds to time axis of data\n",
      "cdutil.setTimeBoundsMonthly(uwnd_fullyear_data)\n",
      "\n",
      "# get average over MONSOON season\n",
      "monsoon_averaged_data = MONSOON(uwnd_fullyear_data)\n",
      "print 'monsoon_averaged_data.shape =',monsoon_averaged_data.shape, 'averaged over JJAS only'"
     ],
     "language": "python",
     "metadata": {
      "internals": {},
      "slideshow": {
       "slide_type": "fragment"
      }
     },
     "outputs": [
      {
       "output_type": "stream",
       "stream": "stdout",
       "text": [
        "uwnd_fullyear_data.shape = (12, 1, 73, 144)\n",
        "monsoon_averaged_data.shape ="
       ]
      },
      {
       "output_type": "stream",
       "stream": "stdout",
       "text": [
        " (1, 1, 73, 144) averaged over JJAS only\n"
       ]
      }
     ],
     "prompt_number": 38
    },
    {
     "cell_type": "markdown",
     "metadata": {
      "internals": {},
      "slideshow": {
       "slide_type": "fragment"
      }
     },
     "source": [
      "* cdutil imports everything in the times module so you can just call e.g.:\n",
      "<pre><font color='brown'>cdutil.setTimeBoundsMonthly(slab/axis)</font></pre>"
     ]
    },
    {
     "cell_type": "markdown",
     "metadata": {
      "internals": {},
      "slideshow": {
       "slide_type": "subslide"
      }
     },
     "source": [
      "<center><font face=\"sans-serif\" size=4>The importance of <b>bounds</b></font></center>"
     ]
    },
    {
     "cell_type": "code",
     "collapsed": false,
     "input": [
      "#hideme\n",
      "from IPython.core.display import Image \n",
      "Image(filename='img/tbounds.png')"
     ],
     "language": "python",
     "metadata": {
      "internals": {},
      "slideshow": {
       "slide_type": "fragment"
      }
     },
     "outputs": [
      {
       "metadata": {},
       "output_type": "pyout",
       "png": "[encoded data removed]",
       "prompt_number": 39,
       "text": [
        "<IPython.core.display.Image at 0x2ed2d90>"
       ]
      }
     ],
     "prompt_number": 39
    },
    {
     "cell_type": "markdown",
     "metadata": {
      "slideshow": {
       "slide_type": "fragment"
      }
     },
     "source": [
      "* UV-CDAT used to set bounds automatically. E.g.:\n",
      "<pre> \n",
      "longitude = [0, 90, 180, 270]\n",
      "\u2234 bounds = [[-45, 45], [45, 135],\n",
      "            [135, 225], [225, 315]] </pre>"
     ]
    },
    {
     "cell_type": "markdown",
     "metadata": {
      "slideshow": {
       "slide_type": "fragment"
      }
     },
     "source": [
      "* Seems reasonable, but imagine a monthly mean time series where the times are recorded on 1st day of each month:\n",
      "<pre> timeax = [\u201c1999-1-1\u201d, \u201c1999-2-1\u201d, ..., \u201c2100-12-1\u201d] </pre>\n"
     ]
    },
    {
     "cell_type": "markdown",
     "metadata": {},
     "source": [
      "* UV-CDAT assumes that each month represents the period of 15th last month to 15th this month. "
     ]
    },
    {
     "cell_type": "markdown",
     "metadata": {
      "slideshow": {
       "slide_type": "fragment"
      }
     },
     "source": [
      "* Since cdutil tools use bounds they will be misinterpreting the data. \n",
      "\n",
      "<pre>Need to set the bounds <b>sensibly</b>:\n",
      "<font color='brown'>>>> cdutil.setTimeBoundsMonthly(timeax)</font> </pre>\n"
     ]
    },
    {
     "cell_type": "markdown",
     "metadata": {
      "slideshow": {
       "slide_type": "subslide"
      }
     },
     "source": [
      "<center><font face=\"sans-serif\" size=4><b>cdutil</b> : Pre\u2010defined time\u2010related <b>means</b></font></center>"
     ]
    },
    {
     "cell_type": "markdown",
     "metadata": {
      "slideshow": {
       "slide_type": "fragment"
      }
     },
     "source": [
      "* DJF, MAM, JJA, SON (seasons) \n",
      "<pre><font color='brown'>>>> mam_mean = cdutil.MAM(my_var)</font></pre>"
     ]
    },
    {
     "cell_type": "code",
     "collapsed": false,
     "input": [
      "mam_mean = cdutil.MAM(uwnd_fullyear_data)\n",
      "print \"uwnd full year shape\", uwnd_fullyear_data.shape\n",
      "print \"MAM mean shape\", mam_mean.shape"
     ],
     "language": "python",
     "metadata": {
      "slideshow": {
       "slide_type": "fragment"
      }
     },
     "outputs": [
      {
       "output_type": "stream",
       "stream": "stdout",
       "text": [
        "uwnd full year shape (12, 1, 73, 144)\n",
        "MAM mean shape (1, 1, 73, 144)\n"
       ]
      }
     ],
     "prompt_number": 40
    },
    {
     "cell_type": "markdown",
     "metadata": {
      "slideshow": {
       "slide_type": "fragment"
      }
     },
     "source": [
      "* DJF works like average of previous year 'Dec' & current year 'Jan' & 'Feb' months. So if we pass single year, it returns avg of 'JF' & 'D' seperately."
     ]
    },
    {
     "cell_type": "code",
     "collapsed": false,
     "input": [
      "djf_mean = cdutil.DJF(uwnd_fullyear_data)\n",
      "print \"uwnd full year shape\", uwnd_fullyear_data.shape\n",
      "print \"DJF mean shape\", djf_mean.shape"
     ],
     "language": "python",
     "metadata": {
      "slideshow": {
       "slide_type": "fragment"
      }
     },
     "outputs": [
      {
       "output_type": "stream",
       "stream": "stdout",
       "text": [
        "uwnd full year shape (12, 1, 73, 144)\n",
        "DJF mean shape (2, 1, 73, 144)\n"
       ]
      }
     ],
     "prompt_number": 41
    },
    {
     "cell_type": "markdown",
     "metadata": {
      "slideshow": {
       "slide_type": "fragment"
      }
     },
     "source": [
      "* SEASONALCYCLE (means for the 4 predefined seasons [DJF, MAM, JJA, SON ]) \u2013 array of above.\n",
      "<pre><font color='brown'>>>> seas_mns = cdutil.SEASONALCYCLE(my_var)</font></pre>"
     ]
    },
    {
     "cell_type": "code",
     "collapsed": false,
     "input": [
      "seas_mean = cdutil.SEASONALCYCLE(uwnd_fullyear_data)\n",
      "print \"uwnd full year shape\", uwnd_fullyear_data.shape\n",
      "print \"Seasonal mean shape\", seas_mean.shape\n",
      "print \"Since it has only one year data, DJF gives two different seasons like 'JF' & 'D'\"\n",
      "seas_mean.getTime().asComponentTime()"
     ],
     "language": "python",
     "metadata": {
      "slideshow": {
       "slide_type": "fragment"
      }
     },
     "outputs": [
      {
       "output_type": "stream",
       "stream": "stdout",
       "text": [
        "uwnd full year shape (12, 1, 73, 144)\n",
        "Seasonal mean shape (5, 1, 73, 144)\n",
        "Since it has only one year data, DJF gives two different seasons like 'JF' & 'D'\n"
       ]
      },
      {
       "metadata": {},
       "output_type": "pyout",
       "prompt_number": 42,
       "text": [
        "[1-1-1 0:0:0.0, 1-4-1 0:0:0.0, 1-7-1 0:0:0.0, 1-10-1 0:0:0.0, 2-1-1 0:0:0.0]"
       ]
      }
     ],
     "prompt_number": 42
    },
    {
     "cell_type": "markdown",
     "metadata": {
      "slideshow": {
       "slide_type": "fragment"
      }
     },
     "source": [
      "* YEAR (annual means)\n",
      "<pre><font color='brown'>>>> annual_mean = cdutil.YEAR(my_var)</font></pre>"
     ]
    },
    {
     "cell_type": "code",
     "collapsed": false,
     "input": [
      "annual_mean = cdutil.YEAR(uwnd_fullyear_data)\n",
      "print \"uwnd full year shape\", uwnd_fullyear_data.shape\n",
      "print \"yearly mean shape\", annual_mean.shape"
     ],
     "language": "python",
     "metadata": {
      "slideshow": {
       "slide_type": "fragment"
      }
     },
     "outputs": [
      {
       "output_type": "stream",
       "stream": "stdout",
       "text": [
        "uwnd full year shape (12, 1, 73, 144)\n",
        "yearly mean shape (1, 1, 73, 144)\n"
       ]
      }
     ],
     "prompt_number": 43
    },
    {
     "cell_type": "markdown",
     "metadata": {
      "slideshow": {
       "slide_type": "fragment"
      }
     },
     "source": [
      "* ANNUALCYCLE (monthly means for each month of the year)\n",
      "* Works well for daily dataset\n",
      "<pre><font color='brown'>>>> monthly_mean = cdutil.ANNUALCYCLE(my_var)</font></pre>"
     ]
    },
    {
     "cell_type": "code",
     "collapsed": false,
     "input": [
      "monthly_mean = cdutil.ANNUALCYCLE(uwnd_fullyear_data)\n",
      "print \"uwnd full year shape\", uwnd_fullyear_data.shape\n",
      "print \"monthly mean shape\", monthly_mean.shape\n",
      "print \"**Since uwnd already monthly average dataset, we cant see any difference in it**\""
     ],
     "language": "python",
     "metadata": {
      "slideshow": {
       "slide_type": "fragment"
      }
     },
     "outputs": [
      {
       "output_type": "stream",
       "stream": "stdout",
       "text": [
        "uwnd full year shape (12, 1, 73, 144)\n",
        "monthly mean shape (12, 1, 73, 144)\n",
        "**Since uwnd already monthly average dataset, we cant see any difference in it**\n"
       ]
      }
     ],
     "prompt_number": 44
    },
    {
     "cell_type": "markdown",
     "metadata": {
      "slideshow": {
       "slide_type": "fragment"
      }
     },
     "source": [
      "* <pre><b>EXERCISE:</b> Try calculating the <b>climatological annual cycle</b> for the NCEP Reanalysis data you have read in."
     ]
    },
    {
     "cell_type": "markdown",
     "metadata": {
      "slideshow": {
       "slide_type": "subslide"
      }
     },
     "source": [
      "<center><font face=\"sans-serif\" size=4><b>cdutil</b> : Climatologies and Departures</font></center>"
     ]
    },
    {
     "cell_type": "markdown",
     "metadata": {
      "slideshow": {
       "slide_type": "fragment"
      }
     },
     "source": [
      "Season extractors have 2 functions available:"
     ]
    },
    {
     "cell_type": "markdown",
     "metadata": {
      "slideshow": {
       "slide_type": "fragment"
      }
     },
     "source": [
      "* <b>climatology</b>: which computes the average of all seasons passed. ANNUALCYCLE.climatology(), will return the 12 month annual cycle for the slab:\n",
      "<pre><font color='brown'>>>> monthly_climatology = cdutil.ANNUALCYCLE.climatology(v)</font></pre>\n",
      "* If we pass multiple years, then also we will endup with time length 12."
     ]
    },
    {
     "cell_type": "code",
     "collapsed": false,
     "input": [
      "monthly_climatology = cdutil.ANNUALCYCLE.climatology(uwnd_fullyear_data)\n",
      "print \"uwnd full year shape\", uwnd_fullyear_data.shape\n",
      "print \"monthly climatology shape\", monthly_climatology.shape"
     ],
     "language": "python",
     "metadata": {
      "slideshow": {
       "slide_type": "fragment"
      }
     },
     "outputs": [
      {
       "output_type": "stream",
       "stream": "stdout",
       "text": [
        "uwnd full year shape (12, 1, 73, 144)\n",
        "monthly climatology shape (12, 1, 73, 144)\n"
       ]
      }
     ],
     "prompt_number": 45
    },
    {
     "cell_type": "markdown",
     "metadata": {
      "slideshow": {
       "slide_type": "fragment"
      }
     },
     "source": [
      "* <b>departures</b>: which given an optional climatology will compute seasonal departures from it.\n",
      "<pre><font color='brown'>>>> anomaly = cdutil.ANNUALCYCLE.departures(v, cli60_99)</font>\n",
      "\n",
      "<b>Note</b> that the second argument is optional but can be a pre\u2010computed \n",
      "climatology such as here cli60_99 is a 1960\u20101999 climatology but the variable v is \n",
      "defined from 1900\u20102000. If not given then the overall climatology for v is used.</pre>"
     ]
    },
    {
     "cell_type": "code",
     "collapsed": false,
     "input": [
      "anomaly = cdutil.ANNUALCYCLE.departures(uwnd_fullyear_data)\n",
      "print \"uwnd full year shape\", uwnd_fullyear_data.shape\n",
      "print \"monthly anomaly shape\", monthly_climatology.shape"
     ],
     "language": "python",
     "metadata": {
      "slideshow": {
       "slide_type": "fragment"
      }
     },
     "outputs": [
      {
       "output_type": "stream",
       "stream": "stdout",
       "text": [
        "uwnd full year shape (12, 1, 73, 144)\n",
        "monthly anomaly shape (12, 1, 73, 144)\n"
       ]
      }
     ],
     "prompt_number": 46
    },
    {
     "cell_type": "markdown",
     "metadata": {
      "slideshow": {
       "slide_type": "slide"
      }
     },
     "source": [
      "<center><font face=\"sans-serif\" size=5>Simple user\u2010defined <b>averaging</b></font></center>"
     ]
    },
    {
     "cell_type": "markdown",
     "metadata": {
      "slideshow": {
       "slide_type": "fragment"
      }
     },
     "source": [
      "* You can create your own simple averages using arrays, slabs or variables in the usual way:\n",
      "<pre>\n",
      "\u2013 Averaging over 4 time steps:\n",
      "<font color='brown'>>>> t.shape\n",
      "(4, 181, 360)\n",
      ">>> avg = (t[0]+t[1]+t[2]+t[3])/4</font></pre>"
     ]
    },
    {
     "cell_type": "markdown",
     "metadata": {
      "slideshow": {
       "slide_type": "fragment"
      }
     },
     "source": [
      "* Drawbacks:\n",
      "    * Doesn\u2019t retain your metadata.\n",
      "    * Cannot average simply across axes within a variable."
     ]
    },
    {
     "cell_type": "markdown",
     "metadata": {
      "slideshow": {
       "slide_type": "subslide"
      }
     },
     "source": [
      "<center><font face=\"sans-serif\" size=5>MV2 Averaging</font></center>"
     ]
    },
    {
     "cell_type": "markdown",
     "metadata": {
      "slideshow": {
       "slide_type": "fragment"
      }
     },
     "source": [
      "* The MV2 module has an averaging function:\n",
      "<pre><font color='brown'>>>>MV2.average(x, axis=0, weights=None, returned=0)</font>\n",
      "    \u2013 computes the average value of the non\u2010masked elements of x along the selected axis.\n",
      "      If weights is given, it must match the size and shape of x, and the value returned is:      </pre>"
     ]
    },
    {
     "cell_type": "markdown",
     "metadata": {
      "slideshow": {
       "slide_type": "fragment"
      }
     },
     "source": [
      "$$ \\frac{\\sum(weights_i * x_i)}{\\sum(weights_i)}$$"
     ]
    },
    {
     "cell_type": "markdown",
     "metadata": {
      "slideshow": {
       "slide_type": "fragment"
      }
     },
     "source": [
      "<pre>    \u2013 elements corresponding to those masked in x or weights are ignored. \n",
      "      If returned, a 2\u2010tuple consisting of the average and the sum of the weights is returned.</pre>"
     ]
    },
    {
     "cell_type": "markdown",
     "metadata": {
      "slideshow": {
       "slide_type": "subslide"
      }
     },
     "source": [
      "<center><font face=\"sans-serif\" size=4>MV2 Averaging: example</font></center>"
     ]
    },
    {
     "cell_type": "markdown",
     "metadata": {
      "slideshow": {
       "slide_type": "fragment"
      }
     },
     "source": [
      "* To calculate a set of zonal means:"
     ]
    },
    {
     "cell_type": "code",
     "collapsed": false,
     "input": [
      "import cdms2, MV2\n",
      "f = cdms2.open('data/Climatology/NCEP_NCAR_Climatology_ltm/Surface/slp.mon.ltm.nc')\n",
      "data = f('slp')\n",
      "print data.shape\n",
      "zm = MV2.average(data, axis=2)\n",
      "print zm.shape\n",
      "print zm.info()"
     ],
     "language": "python",
     "metadata": {
      "slideshow": {
       "slide_type": "fragment"
      }
     },
     "outputs": [
      {
       "output_type": "stream",
       "stream": "stdout",
       "text": [
        "(12, 73, 144)\n",
        "(12, 73)\n",
        "*** Description of Slab variable_497 ***\n",
        "id: variable_497\n",
        "shape: (12, 73)\n",
        "filename: \n",
        "missing_value: 1e+20\n",
        "comments: \n",
        "grid_name: N/A\n",
        "grid_type: N/A\n",
        "time_statistic: \n",
        "long_name: Monthly Longterm Mean of Sea Level Pressure\n",
        "units: millibars\n",
        "autoApiInfo: <AutoAPI.AutoAPI.Info instance at 0x2b5ad40>\n",
        "least_significant_digit: [1]\n",
        "var_desc: Sea Level Pressure\n",
        "level_desc: Sea Level\n",
        "tileIndex: None\n",
        "actual_range: [  985.24383545  1039.05273438]\n",
        "precision: [2]\n",
        "parent_stat: Other\n",
        "dataset: CDC Derived NCEP Reanalysis Products\n",
        "statistic: Long Term Mean\n",
        "valid_range: [-102.19999695  102.19999695]\n",
        "No grid present.\n",
        "** Dimension 1 **\n",
        "   id: time\n",
        "   Designated a time axis.\n",
        "   units:  hours since 1-1-1 00:00:0.0\n",
        "   Length: 12\n",
        "   First:  0.0\n",
        "   Last:   8016.0\n",
        "   Other axis attributes:\n",
        "      avg_period: 0029-00-00 00:00:00\n",
        "      delta_t: 0000-01-00 00:00:00\n",
        "      actual_range: [    0.  8016.]\n",
        "      long_name: Time\n",
        "      standard_name: time\n",
        "      prev_avg_period: 0000-00-00 06:00:00\n",
        "      ltm_range: [ 17242392.  17495880.]\n",
        "      calendar: gregorian\n",
        "      axis: T\n",
        "   Python id:  0x2edbc90\n",
        "** Dimension 2 **\n",
        "   id: lat\n",
        "   Designated a latitude axis.\n",
        "   units:  degrees_north\n",
        "   Length: 73\n",
        "   First:  90.0\n",
        "   Last:   -90.0\n",
        "   Other axis attributes:\n",
        "      long_name: Latitude\n",
        "      standard_name: latitude\n",
        "      actual_range: [ 90. -90.]\n",
        "      axis: Y\n",
        "   Python id:  0x2b61ad0\n",
        "*** End of description for variable_497 ***\n",
        "None\n"
       ]
      }
     ],
     "prompt_number": 47
    },
    {
     "cell_type": "markdown",
     "metadata": {
      "slideshow": {
       "slide_type": "subslide"
      }
     },
     "source": [
      "<center><font face=\"sans-serif\" size=4>The cdutil \"<b>averager</b>\" function</font></center>"
     ]
    },
    {
     "cell_type": "markdown",
     "metadata": {
      "slideshow": {
       "slide_type": "fragment"
      }
     },
     "source": [
      "<pre>The \"<b>cdutil.averager()</b>\" function is the key to spatial and temporal averaging in UV-CDAT. </pre>\n",
      "\n",
      "* Masks are dealt with implicitly.\n",
      "* Powerful area averaging function. \n",
      "* Provides control over the order of operations (i.e. which dimensions are averaged over first).\n",
      "* Allows weightings for the different axes:\n",
      "    * pass your own array of weights for each dimension, use the default (grid) weights or specify equal weighting. "
     ]
    },
    {
     "cell_type": "markdown",
     "metadata": {
      "slideshow": {
       "slide_type": "fragment"
      }
     },
     "source": [
      "<center><font face=\"sans-serif\" size=3>Usage of cdutil.averager</font></center>\n",
      "<br><br>\n",
      "<pre> result = averager( V, axis=axisoptions, \n",
      "                        weights=weightoptions,\n",
      "                        action=actionoptions,\n",
      "                        returned=returnedoptions,\n",
      "                        combinewts=combinewtsoptions) </pre>\n",
      "<br>\n",
      "<pre><b>axisoptions</b> has to be a string. You can pass axis='tyx', or '123', or 'x (plev)'.\n",
      "\n",
      "<b>weightoptions</b> is one of 'generate' | 'weighted' | 'equal' | 'unweighted' | array | Masked Variable\n",
      "\n",
      "<b>actionoptions</b> is 'average' | 'sum' [Default = 'average']. \n",
      "\n",
      "You can either return the weighted average or the weighted sum of the data.</pre>"
     ]
    },
    {
     "cell_type": "markdown",
     "metadata": {
      "slideshow": {
       "slide_type": "subslide"
      }
     },
     "source": [
      "<center><font face=\"sans-serif\" size=4>Example: Region Averaging, and Climatology</font></center>"
     ]
    },
    {
     "cell_type": "code",
     "collapsed": false,
     "input": [
      "import cdutil\n",
      "# define the your custom regions.\n",
      "NINO3 = cdms2.selectors.Selector(cdutil.region.domain(latitude=(-5., 5.,'ccb'), longitude=(210., 270., 'ccb')))\n",
      "fslp = cdms2.open('data/Obs/mo/sst/HadISST/sst_HadISST_Climatology_1961-1990.nc')\n",
      "#'sst_HadISST_1870-1_2011-1.nc' !!!!!! use this for actual nino3 sst data\n",
      "nino3_data = fslp('sst', NINO3)\n",
      "cdutil.setTimeBoundsMonthly(nino3_data)\n",
      "print \"data shape : \", nino3_data.shape, \"& its order : \", nino3_data.getOrder()\n",
      "# Compute the Spatial average\n",
      "nino3_average = cdutil.averager(nino3_data, axis='xy')\n",
      "print \"after averged over lat, lon shape : \", nino3_average.shape\n",
      "# Anomaly from climatology computed over 1961-1990\n",
      "nino3_slice = nino3_average(time=('0-1-16 12:0:0.0', '0-12-16 12:0:0.0'))\n",
      "#nino3_slice = nino3_average(time=('1961-1-1', '1990-12-31'))  # !!!!!! use this for actual nino3 sst data\n",
      "nino3_clim = cdutil.ANNUALCYCLE.climatology(nino3_slice)\n",
      "print \"climatology shape : \", nino3_clim.shape\n",
      "# Now departures\n",
      "nino3_anomaly = cdutil.ANNUALCYCLE.departures(nino3_average, nino3_clim)\n",
      "print \"anomaly shape : \", nino3_anomaly.shape"
     ],
     "language": "python",
     "metadata": {
      "slideshow": {
       "slide_type": "fragment"
      }
     },
     "outputs": [
      {
       "output_type": "stream",
       "stream": "stdout",
       "text": [
        "data shape :  (12, 10, 60) & its order :  tyx\n",
        "after averged over lat, lon shape :  (12,)\n",
        "climatology shape : "
       ]
      },
      {
       "output_type": "stream",
       "stream": "stdout",
       "text": [
        " (12,)\n",
        "anomaly shape : "
       ]
      },
      {
       "output_type": "stream",
       "stream": "stdout",
       "text": [
        " (12,)\n"
       ]
      }
     ],
     "prompt_number": 48
    },
    {
     "cell_type": "markdown",
     "metadata": {
      "slideshow": {
       "slide_type": "subslide"
      }
     },
     "source": [
      "<center><font face=\"sans-serif\" size=3><b>EXERCISE</b></font></center>"
     ]
    },
    {
     "cell_type": "markdown",
     "metadata": {
      "slideshow": {
       "slide_type": "fragment"
      }
     },
     "source": [
      "* Extract the SST data and compute global anomalies from the 1961\u20101990 climatology for the whole length of dataset. \n",
      "* Average the anomaly data over x and y axes using \u201cequal\u201d weights for both axes and compare against area \u201cweighted\u201d average."
     ]
    },
    {
     "cell_type": "markdown",
     "metadata": {
      "slideshow": {
       "slide_type": "slide"
      }
     },
     "source": [
      "<center><font face=\"sans-serif\" size=5>genutil : <b>gen</b>eral <b>util</b>ities</font></center>"
     ]
    },
    {
     "cell_type": "markdown",
     "metadata": {
      "slideshow": {
       "slide_type": "fragment"
      }
     },
     "source": [
      "* <b>genutil.statistics</b>: set of basic statistical functions\n",
      "* correlation, \n",
      "* covariance, \n",
      "* geometricmean, \n",
      "* laggedcorrelation, \n",
      "* laggedcovariance, \n",
      "* linearregression,\n",
      "* meanabsdiff, \n",
      "* median, \n",
      "* array_indexing,\n",
      "* percentiles, \n",
      "* rank, \n",
      "* rms,\n",
      "* std,\n",
      "* variance,\n",
      "* autocorrelation,\n",
      "* autocovariance, \n",
      "* and more"
     ]
    },
    {
     "cell_type": "markdown",
     "metadata": {
      "slideshow": {
       "slide_type": "fragment"
      }
     },
     "source": [
      "<center><font face=\"sans-serif\" size=4>Statistics Example</font></center>"
     ]
    },
    {
     "cell_type": "markdown",
     "metadata": {
      "slideshow": {
       "slide_type": "fragment"
      }
     },
     "source": [
      "<pre><font color='brown'>>>> c1 = genutil.statistics.correlation(a, b, axis='t')\n",
      ">>> c1.shape\n",
      ">>> c2 = genutil.statistics.correlation(a, b, axis='xy')\n",
      ">>> c2.shape</pre>"
     ]
    },
    {
     "cell_type": "markdown",
     "metadata": {
      "slideshow": {
       "slide_type": "slide"
      }
     },
     "source": [
      "<center><font face=\"sans-serif\" size=5>Support for other <b>grid</b> types</font></center>"
     ]
    },
    {
     "cell_type": "code",
     "collapsed": false,
     "input": [
      "#hideme\n",
      "from IPython.core.display import Image \n",
      "Image(filename='img/grids.png')"
     ],
     "language": "python",
     "metadata": {
      "slideshow": {
       "slide_type": "fragment"
      }
     },
     "outputs": [
      {
       "metadata": {},
       "output_type": "pyout",
       "png": "[encoded data removed]",
       "prompt_number": 49,
       "text": [
        "<IPython.core.display.Image at 0x2ed2e50>"
       ]
      }
     ],
     "prompt_number": 49
    },
    {
     "cell_type": "markdown",
     "metadata": {
      "slideshow": {
       "slide_type": "fragment"
      }
     },
     "source": [
      "* <b>RectGrid</b> \u2010 Associated latitude and longitude are 1\u2010D axes, with strictly monotonic values.\n",
      "* <b>CurveGrid</b> \u2010 Latitude and longitude are 2\u2010D coordinate axes (Axis2D).\n",
      "* <b>GenericGrid</b> \u2010 Latitude and longitude are 1\u2010D auxiliary coordinate axes (AuxAxis1D)"
     ]
    },
    {
     "cell_type": "markdown",
     "metadata": {
      "slideshow": {
       "slide_type": "slide"
      }
     },
     "source": [
      "<center><b>Acknowledgments</b></center>"
     ]
    },
    {
     "cell_type": "markdown",
     "metadata": {
      "slideshow": {
       "slide_type": "fragment"
      }
     },
     "source": [
      "* <b>Dean Williams</b>, <b>Charles Doutriaux</b> (PCMDI, LLNL).\n",
      "* <b>Dr. Johnny Lin</b> (Physics Department, North Park University, Chicago, Illinois).\n",
      "* <b>Dr.Krishna AchtuaRao</b> (Centre for Atmospheic Sciences, Indian Institute of Technology Delhi, India)."
     ]
    },
    {
     "cell_type": "markdown",
     "metadata": {
      "slideshow": {
       "slide_type": "subslide"
      }
     },
     "source": [
      "<center><b>License</b></center>"
     ]
    },
    {
     "cell_type": "markdown",
     "metadata": {
      "slideshow": {
       "slide_type": "fragment"
      }
     },
     "source": [
      " * IPython Notebook Created by <pre>\n",
      "     <b>Arulalan.T</b> <arulalant@gmail.com>\n",
      "     Date : 18.06.2014\n",
      "     Project Associate,\n",
      "     Centre for Atmospheic Sciences,\n",
      "     Indian Institute of Technology Delhi, India.\n",
      "     Blog : http://tuxcoder.wordpress.com \n",
      "     Repo : https://github.com/arulalant\n",
      "     </pre>"
     ]
    },
    {
     "cell_type": "markdown",
     "metadata": {
      "slideshow": {
       "slide_type": "fragment"
      }
     },
     "source": [
      "* This work (IPython Notebook & Html Slide) is <b>licensed</b> under a <b>Creative Commons Attribution\u2010NonCommercial\u2010ShareAlike 3.0</b>\n",
      "* Includes all python scripts\n",
      "* <b>Freeware license (only for research purpose, not for commercial)</b> for '<b>data</b>' directory which contains '<b>.nc</b>' files (any one can download it from <b>TIGGE</b> http://tigge-portal.ecmwf.int/ website)"
     ]
    }
   ],
   "metadata": {}
  }
 ]
}